{
 "cells": [
  {
   "cell_type": "markdown",
   "id": "11846962",
   "metadata": {},
   "source": [
    "***Chargement et affichage de donnée***"
   ]
  },
  {
   "cell_type": "markdown",
   "id": "0e0578b0",
   "metadata": {},
   "source": [
    "Charge le fichier CSV de données météo fusionnées et affiche les premières lignes pour vérifier que les données sont bien lues."
   ]
  },
  {
   "cell_type": "code",
   "execution_count": null,
   "id": "560749df",
   "metadata": {},
   "outputs": [],
   "source": [
    "import pandas as pd\n",
    "import matplotlib.pyplot as plt\n",
    "import seaborn as sns\n",
    "\n",
    "df = pd.read_csv(\"data/processed/merged_weather.csv\", parse_dates=[\"date\"])\n",
    "df.head()"
   ]
  },
  {
   "cell_type": "markdown",
   "id": "0da1333f",
   "metadata": {},
   "source": [
    "Explorer rapidement le contenu du tableau de données météo pour mieux le comprendre."
   ]
  },
  {
   "cell_type": "code",
   "execution_count": null,
   "id": "46d0730a",
   "metadata": {},
   "outputs": [],
   "source": [
    "df.info()\n",
    "df.describe()\n",
    "df['city'].value_counts()"
   ]
  },
  {
   "cell_type": "markdown",
   "id": "eb0ab7a2",
   "metadata": {},
   "source": [
    "Vérifie la qualité des données en montrant combien de valeurs sont absentes dans chaque colonne."
   ]
  },
  {
   "cell_type": "code",
   "execution_count": null,
   "id": "698b59b8",
   "metadata": {},
   "outputs": [],
   "source": [
    "df.isna().sum()"
   ]
  },
  {
   "cell_type": "markdown",
   "id": "85aed4b1",
   "metadata": {},
   "source": [
    "Affiche un graphique de température moyenne dans le temps, avec une ligne pour chaque ville sur 5 ans."
   ]
  },
  {
   "cell_type": "code",
   "execution_count": null,
   "id": "d549e4a9",
   "metadata": {},
   "outputs": [],
   "source": [
    "plt.figure(figsize=(12, 6))\n",
    "sns.lineplot(data=df, x=\"date\", y=\"tavg\", hue=\"city\")\n",
    "plt.title(\"Température moyenne par ville (sur 5 ans)\")\n",
    "plt.xlabel(\"Date\")\n",
    "plt.ylabel(\"Température moyenne (°C)\")\n",
    "plt.grid(True)\n",
    "plt.tight_layout()\n",
    "plt.show()"
   ]
  },
  {
   "cell_type": "markdown",
   "id": "782553b3",
   "metadata": {},
   "source": [
    "Compte le nombre de jours où il a plu dans chaque ville."
   ]
  },
  {
   "cell_type": "code",
   "execution_count": null,
   "id": "316299a5",
   "metadata": {},
   "outputs": [],
   "source": [
    "df[\"rainy_day\"] = df[\"prcp\"] > 0\n",
    "rain_stats = df.groupby(\"city\")[\"rainy_day\"].sum().reset_index()\n",
    "rain_stats.columns = [\"Ville\", \"Nombre de jours pluvieux\"]\n",
    "rain_stats"
   ]
  },
  {
   "cell_type": "markdown",
   "id": "05e6bbfe",
   "metadata": {},
   "source": [
    "Mesure à quel point les températures varient dans chaque ville (plus le chiffre est grand, plus les températures sont instables ou changent fortement)."
   ]
  },
  {
   "cell_type": "code",
   "execution_count": null,
   "id": "8411a905",
   "metadata": {},
   "outputs": [],
   "source": [
    "df.groupby(\"city\")[\"tavg\"].std().reset_index(name=\"variabilité_temp_moy\")"
   ]
  },
  {
   "cell_type": "markdown",
   "id": "d34d7057",
   "metadata": {},
   "source": [
    "Analyse la température moyenne pour chaque ville et comparer les différences de climat entre les villes."
   ]
  },
  {
   "cell_type": "code",
   "execution_count": null,
   "id": "9aa197a9",
   "metadata": {},
   "outputs": [],
   "source": [
    "stats = df.groupby(\"city\")[\"tavg\"].agg([\"mean\", \"std\", \"min\", \"max\"]).reset_index()\n",
    "stats[\"amplitude\"] = stats[\"max\"] - stats[\"min\"]\n",
    "stats.sort_values(\"std\", ascending=False)"
   ]
  }
 ],
 "metadata": {
  "language_info": {
   "name": "python"
  }
 },
 "nbformat": 4,
 "nbformat_minor": 5
}
